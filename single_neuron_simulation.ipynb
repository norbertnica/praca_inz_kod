{
 "cells": [
  {
   "cell_type": "code",
   "execution_count": 1,
   "metadata": {
    "collapsed": true
   },
   "outputs": [],
   "source": [
    "# SKRYPT PREZENTUJE DYNAMIKĘ STANU WEWNĘTRZNEGO CHAOTYCZNEGO NEURONU\n",
    "import numpy as np\n",
    "import math\n",
    "import matplotlib\n",
    "from matplotlib import pyplot as plt\n",
    "get_ipython().magic('matplotlib inline')\n",
    "fig_size = [10, 8]\n",
    "plt.rcParams[\"figure.figsize\"] = fig_size"
   ]
  },
  {
   "cell_type": "code",
   "execution_count": 2,
   "metadata": {
    "collapsed": false
   },
   "outputs": [
    {
     "data": {
      "text/plain": [
       "'\\nk = 0.9\\nalpha = 12\\n\\n'"
      ]
     },
     "execution_count": 2,
     "metadata": {},
     "output_type": "execute_result"
    }
   ],
   "source": [
    "#parametry dla dynamiki przypominajacej odwzorowanie logistyczne\n",
    "e = 0.015\n",
    "k = 0.5\n",
    "alpha = 1\n",
    "trans = 100\n",
    "\n",
    "#parametry blizsze parametrom uzywanym w pracy\n",
    "#k = 0.9\n",
    "#alpha = 12\n"
   ]
  },
  {
   "cell_type": "code",
   "execution_count": 3,
   "metadata": {
    "collapsed": true
   },
   "outputs": [],
   "source": [
    "def f(y):\n",
    "    return 1/(1+np.e**(-y/e))\n",
    "\n",
    "def g(x):\n",
    "    return f(x)\n",
    "\n",
    "def y(y_old,a): # rownanie na stan wewnetrzny neuronu\n",
    "    return k*y_old - alpha*g(y_old) + a"
   ]
  },
  {
   "cell_type": "code",
   "execution_count": 4,
   "metadata": {
    "collapsed": true
   },
   "outputs": [],
   "source": [
    "a = np.arange(-0.05,0.045,0.00001) \n",
    "it = 1100 \n",
    "# dla drugiego zestawu parametrow uzywano:\n",
    "# a = np.arange(0,1,0.00001)\n"
   ]
  },
  {
   "cell_type": "code",
   "execution_count": 5,
   "metadata": {
    "collapsed": true
   },
   "outputs": [],
   "source": [
    "y_arr = np.zeros((len(a),it))\n",
    "for n in np.arange(len(a)):\n",
    "    temp = []\n",
    "    temp.append(0)\n",
    "    for i in range(it-1):\n",
    "        temp.append(y(temp[i],a[n]))\n",
    "    y_arr[n,:] = temp"
   ]
  },
  {
   "cell_type": "code",
   "execution_count": 6,
   "metadata": {
    "collapsed": false
   },
   "outputs": [
    {
     "data": {
      "image/png": "[encoded data removed]",
      "text/plain": [
       "<matplotlib.figure.Figure at 0x7f654d0e64a8>"
      ]
     },
     "metadata": {},
     "output_type": "display_data"
    }
   ],
   "source": [
    "for i in range(it-trans):\n",
    "    plt.scatter(a,y_arr[:,i+trans],s=1,color='k',alpha=0.3)"
   ]
  },
  {
   "cell_type": "code",
   "execution_count": null,
   "metadata": {
    "collapsed": true
   },
   "outputs": [],
   "source": []
  }
 ],
 "metadata": {
  "anaconda-cloud": {},
  "kernelspec": {
   "display_name": "Python [Root]",
   "language": "python",
   "name": "Python [Root]"
  },
  "language_info": {
   "codemirror_mode": {
    "name": "ipython",
    "version": 3
   },
   "file_extension": ".py",
   "mimetype": "text/x-python",
   "name": "python",
   "nbconvert_exporter": "python",
   "pygments_lexer": "ipython3",
   "version": "3.5.2"
  }
 },
 "nbformat": 4,
 "nbformat_minor": 0
}
