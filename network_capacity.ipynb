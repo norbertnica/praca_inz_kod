{
 "cells": [
  {
   "cell_type": "code",
   "execution_count": 1,
   "metadata": {
    "collapsed": true
   },
   "outputs": [],
   "source": [
    "#SKRYPT PREZENTUJE POJEMNOŚĆ PAMIĘCIOWĄ SIECI\n",
    "import numpy as np\n",
    "import math\n",
    "import matplotlib\n",
    "from matplotlib import pyplot as plt\n",
    "import copy\n",
    "import random\n",
    "import chaotic_network as cn\n",
    "get_ipython().magic('matplotlib inline')\n",
    "fig_size = [12, 9]\n",
    "plt.rcParams[\"figure.figsize\"] = fig_size"
   ]
  },
  {
   "cell_type": "code",
   "execution_count": 2,
   "metadata": {
    "collapsed": true
   },
   "outputs": [],
   "source": [
    "N = 100 # rozmiar sieci"
   ]
  },
  {
   "cell_type": "code",
   "execution_count": 3,
   "metadata": {
    "collapsed": true
   },
   "outputs": [],
   "source": [
    "pmin = 2\n",
    "pmax=10\n",
    "ps = np.arange(pmin,pmax+1,1) #wektor z liczbami uczonych wzorcow\n",
    "it = 2500\n",
    "trans = 2000\n",
    "it2 = 50\n",
    "prob = np.zeros(np.size(ps))\n",
    "q = 0.5"
   ]
  },
  {
   "cell_type": "code",
   "execution_count": 5,
   "metadata": {
    "collapsed": false
   },
   "outputs": [
    {
     "name": "stderr",
     "output_type": "stream",
     "text": [
      "/home/norbert/inz_kod/chaotic_network.py:12: RuntimeWarning: overflow encountered in power\n",
      "  return 1/(1+np.e**(-y/e))\n"
     ]
    }
   ],
   "source": [
    "for z in range(it2):\n",
    "    ii=0\n",
    "    for p in ps:\n",
    "        ###generowanie losowych wzorcow o zadanym q###\n",
    "        pat = np.ones((p,N))\n",
    "        for i in range(p):\n",
    "            indices = random.sample(range(N),int(round(q*N)))\n",
    "            pat[i,indices]=-1\n",
    "        w = cn.hebb(pat)\n",
    "        x_0 = np.random.rand(1,N)\n",
    "        eta_0 = np.zeros((1,N))\n",
    "        zeta_0 = np.zeros((1,N))\n",
    "        x = x_0\n",
    "        eta = eta_0\n",
    "        zeta = zeta_0\n",
    "        index = 0\n",
    "        a = 6.4+pat[index,:]\n",
    "        mu = np.zeros((p,it))\n",
    "        for i in range(it):\n",
    "            out = cn.network_step(x, eta, zeta, w, a)\n",
    "            x = out[0]\n",
    "            eta = out[1]\n",
    "            zeta = out[2]\n",
    "            mu[:,i] = cn.overlap(x,pat,N)\n",
    "        meanmu = np.mean(mu[:,trans:],1)\n",
    "        if np.argmax(meanmu) == index:\n",
    "            if np.size(np.unique(meanmu)) != np.size(np.unique(np.delete(meanmu,index))):\n",
    "                prob[ii] = prob[ii]+1\n",
    "        ii = ii+1\n",
    "prob=prob/it2"
   ]
  },
  {
   "cell_type": "code",
   "execution_count": 8,
   "metadata": {
    "collapsed": false
   },
   "outputs": [
    {
     "data": {
      "text/plain": [
       "(0.0, 1.02)"
      ]
     },
     "execution_count": 8,
     "metadata": {},
     "output_type": "execute_result"
    },
    {
     "data": {
      "image/png": "[encoded data removed]",
      "text/plain": [
       "<matplotlib.figure.Figure at 0x7fa89e7a87f0>"
      ]
     },
     "metadata": {},
     "output_type": "display_data"
    }
   ],
   "source": [
    "plt.plot(ps,prob)\n",
    "plt.ylim(ymax=1.02)"
   ]
  },
  {
   "cell_type": "code",
   "execution_count": null,
   "metadata": {
    "collapsed": true
   },
   "outputs": [],
   "source": []
  }
 ],
 "metadata": {
  "anaconda-cloud": {},
  "kernelspec": {
   "display_name": "Python [Root]",
   "language": "python",
   "name": "Python [Root]"
  },
  "language_info": {
   "codemirror_mode": {
    "name": "ipython",
    "version": 3
   },
   "file_extension": ".py",
   "mimetype": "text/x-python",
   "name": "python",
   "nbconvert_exporter": "python",
   "pygments_lexer": "ipython3",
   "version": "3.5.2"
  }
 },
 "nbformat": 4,
 "nbformat_minor": 0
}
