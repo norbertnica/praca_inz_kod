{
 "cells": [
  {
   "cell_type": "code",
   "execution_count": 1,
   "metadata": {
    "collapsed": true
   },
   "outputs": [],
   "source": [
    "# SKRYPT PRZEDSTAWIA ODPORNOŚĆ NA ZASZUMIENIE WZORCA PREZENTOWANEGO\n",
    "import numpy as np\n",
    "import math\n",
    "import matplotlib\n",
    "from matplotlib import pyplot as plt\n",
    "import copy\n",
    "import random\n",
    "import chaotic_network as cn\n",
    "get_ipython().magic('matplotlib inline')\n",
    "fig_size = [12, 9]\n",
    "plt.rcParams[\"figure.figsize\"] = fig_size"
   ]
  },
  {
   "cell_type": "code",
   "execution_count": 2,
   "metadata": {
    "collapsed": true
   },
   "outputs": [],
   "source": [
    "N = 100\n",
    "p = 4"
   ]
  },
  {
   "cell_type": "code",
   "execution_count": null,
   "metadata": {
    "collapsed": true
   },
   "outputs": [],
   "source": [
    "step = 0.01\n",
    "ratios = np.arange(0,1+step,step) #wektor z wartosciami okreslajacymi poziom szumu\n",
    "prob = np.zeros(np.size(ratios))\n",
    "it = 2500\n",
    "trans = 2000\n",
    "it2 = 100\n",
    "q = 0.5"
   ]
  },
  {
   "cell_type": "code",
   "execution_count": 9,
   "metadata": {
    "collapsed": false
   },
   "outputs": [
    {
     "name": "stderr",
     "output_type": "stream",
     "text": [
      "/home/norbert/inz_kod/chaotic_network.py:12: RuntimeWarning: overflow encountered in power\n",
      "  return 1/(1+np.e**(-y/e))\n"
     ]
    }
   ],
   "source": [
    "for z in range(it2):\n",
    "    ii = 0\n",
    "    for ratio in ratios:\n",
    "        pat = np.ones((p,N))\n",
    "        ###generowanie wzorcow losowych o zadanym q###\n",
    "        for i in range(p):\n",
    "            indices = random.sample(range(N),int(round(q*N)))\n",
    "            pat[i,indices]=-1\n",
    "        ###zaszumienie jednego z wybranych wzorcow zgodnie z poziomem szumu###\n",
    "        indices2 = random.sample(range(N),int(round(ratio*N)))\n",
    "        index = 0\n",
    "        dist = pat[index,:].copy()\n",
    "        for i in range(int(round(ratio*N))):\n",
    "            dist[indices2[i]] = dist[indices2[i]]*random.choice([-1,1])\n",
    "        w = cn.hebb(pat)\n",
    "        x_0 = np.random.rand(1,N)\n",
    "        eta_0 = np.zeros((1,N))\n",
    "        zeta_0 = np.zeros((1,N))\n",
    "        x = x_0\n",
    "        eta = eta_0\n",
    "        zeta = zeta_0\n",
    "        a = 6.4+dist #stymulacja zaszumionym wzorcem\n",
    "        mu = np.zeros((p,it))\n",
    "        for i in range(it):\n",
    "            out = cn.network_step(x, eta, zeta, w, a)\n",
    "            x = out[0]\n",
    "            eta = out[1]\n",
    "            zeta = out[2]\n",
    "            mu[:,i] = cn.overlap(x,pat,N)\n",
    "        meanmu = np.mean(mu[:,trans:],1)\n",
    "        if np.argmax(meanmu) == index:\n",
    "            if np.size(np.unique(meanmu)) != np.size(np.unique(np.delete(meanmu,index))):\n",
    "                prob[ii] = prob[ii]+1\n",
    "        ii=ii+1\n",
    "prob=prob/it2"
   ]
  },
  {
   "cell_type": "code",
   "execution_count": 11,
   "metadata": {
    "collapsed": false
   },
   "outputs": [
    {
     "data": {
      "text/plain": [
       "(0.20000000000000001, 1.02)"
      ]
     },
     "execution_count": 11,
     "metadata": {},
     "output_type": "execute_result"
    },
    {
     "data": {
      "image/png": "[encoded data removed]",
      "text/plain": [
       "<matplotlib.figure.Figure at 0x7fee9bc09c18>"
      ]
     },
     "metadata": {},
     "output_type": "display_data"
    }
   ],
   "source": [
    "plt.plot(ratios,prob)\n",
    "plt.ylim(ymax=1.02)"
   ]
  },
  {
   "cell_type": "code",
   "execution_count": null,
   "metadata": {
    "collapsed": true
   },
   "outputs": [],
   "source": []
  }
 ],
 "metadata": {
  "anaconda-cloud": {},
  "kernelspec": {
   "display_name": "Python [Root]",
   "language": "python",
   "name": "Python [Root]"
  },
  "language_info": {
   "codemirror_mode": {
    "name": "ipython",
    "version": 3
   },
   "file_extension": ".py",
   "mimetype": "text/x-python",
   "name": "python",
   "nbconvert_exporter": "python",
   "pygments_lexer": "ipython3",
   "version": "3.5.2"
  }
 },
 "nbformat": 4,
 "nbformat_minor": 0
}
