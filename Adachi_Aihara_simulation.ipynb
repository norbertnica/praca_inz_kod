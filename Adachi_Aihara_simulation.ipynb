{
 "cells": [
  {
   "cell_type": "code",
   "execution_count": 1,
   "metadata": {
    "collapsed": true
   },
   "outputs": [],
   "source": [
    "# SKRYPT PREZENTUJE DYNAMIKĘ ASOCJACYJNĄ SIECI ADACHIEGO-AIHARY PRZY ZASTOSOWANIU ORYGINALNYCH WZORCÓW\n",
    "import numpy as np\n",
    "import math\n",
    "import matplotlib\n",
    "from matplotlib import pyplot as plt\n",
    "import copy\n",
    "import chaotic_network as cn\n",
    "get_ipython().magic('matplotlib inline')"
   ]
  },
  {
   "cell_type": "code",
   "execution_count": 2,
   "metadata": {
    "collapsed": true
   },
   "outputs": [],
   "source": [
    "N = 100 #rozmiar sieci \n",
    "p = 4 #liczba wzorcow w zestawie"
   ]
  },
  {
   "cell_type": "code",
   "execution_count": 3,
   "metadata": {
    "collapsed": true
   },
   "outputs": [],
   "source": [
    "###GENEROWANIE WZORCOW ADACHIEGO I AIHARY###\n",
    "pat = np.zeros((p,N)) #macierz przechowujaca wzorce\n",
    "A1 = [0,0,0,0,0,1,0,0,0,0,\n",
    "      0,0,0,0,1,1,1,0,0,0,\n",
    "      0,0,0,0,1,1,1,0,0,0,\n",
    "      0,0,0,1,1,1,1,1,0,0,\n",
    "      0,0,0,1,1,0,1,1,0,0,\n",
    "      0,0,1,1,1,0,1,1,1,0,\n",
    "      0,0,1,1,0,0,0,1,1,0,\n",
    "      0,1,1,1,0,0,0,1,1,1,\n",
    "      0,1,1,1,1,1,1,1,1,1,\n",
    "      0,1,1,1,1,1,1,1,1,1]\n",
    "A2 = [0,0,1,1,1,0,0,0,1,1,\n",
    "      0,1,1,1,1,1,1,1,1,1,\n",
    "      1,1,1,0,1,1,1,1,0,0,\n",
    "      1,1,0,0,0,1,1,0,0,0,\n",
    "      0,0,0,0,0,0,0,0,0,0,\n",
    "      0,0,0,1,1,0,0,0,1,1,\n",
    "      0,0,1,1,1,1,0,1,1,1,\n",
    "      1,1,1,1,1,1,1,1,1,0,\n",
    "      1,1,0,0,0,1,1,1,0,0,\n",
    "      0,0,0,0,0,0,0,0,0,0]\n",
    "A3 = [0,0,1,0,0,0,0,1,0,0,\n",
    "      0,0,1,1,0,0,1,1,0,0,\n",
    "      0,0,1,1,1,1,1,1,0,0,\n",
    "      0,0,1,1,1,1,1,1,0,0,\n",
    "      0,0,1,1,1,1,1,1,0,0,\n",
    "      0,1,1,1,1,1,1,1,1,0,\n",
    "      1,1,1,1,1,1,1,1,1,1,\n",
    "      0,0,0,1,1,1,1,0,0,0,\n",
    "      0,0,0,0,1,1,0,0,0,0,\n",
    "      0,0,0,0,0,1,0,0,0,0]\n",
    "A4 = [1,1,0,0,0,0,0,0,1,1,\n",
    "      1,1,1,0,0,0,0,1,1,1,\n",
    "      0,1,1,1,0,0,1,1,1,0,\n",
    "      0,0,1,1,1,1,1,1,0,0,\n",
    "      0,0,0,1,1,1,0,0,0,0,\n",
    "      0,0,0,0,1,1,1,0,0,0,\n",
    "      0,0,1,1,1,1,1,1,0,0,\n",
    "      0,1,1,1,0,0,1,1,1,0,\n",
    "      1,1,1,0,0,0,0,1,1,1,\n",
    "      1,1,0,0,0,0,0,0,1,1]\n",
    "pat[0,:] = A1\n",
    "pat[1,:] = A2\n",
    "pat[2,:] = A3\n",
    "pat[3,:] = A4\n",
    "pat = 2*pat-1 #zamiana 0 na -1"
   ]
  },
  {
   "cell_type": "code",
   "execution_count": 4,
   "metadata": {
    "collapsed": true
   },
   "outputs": [],
   "source": [
    "w = cn.hebb(pat) # ustalenie wag"
   ]
  },
  {
   "cell_type": "code",
   "execution_count": 5,
   "metadata": {
    "collapsed": true
   },
   "outputs": [],
   "source": [
    "it = 30000 #liczba iteracji sieci\n",
    "trans = 2000 #czas przejsciowy\n",
    "mu = np.zeros((p,it)) #macierz przechowujaca przekrycia\n",
    "s = np.zeros((1,it)) #wektor przechowujacy sredni stan sieci\n",
    "#warunki poczatkowe\n",
    "x_0 = np.random.rand(1,N)\n",
    "eta_0 = np.zeros((1,N))\n",
    "zeta_0 = np.zeros((1,N))\n",
    "x = x_0\n",
    "eta = eta_0\n",
    "zeta = zeta_0"
   ]
  },
  {
   "cell_type": "code",
   "execution_count": 13,
   "metadata": {
    "collapsed": true
   },
   "outputs": [],
   "source": [
    "a = 6.4 #stymulacja - pozostawic bez zmian dla stanu podstawowego; dla stymulacji wzorcem odkomentowac ponizszy fragment; index to indeks wzorca w zestawie\n",
    "#index = 3\n",
    "#a = 6.4+pat[index,:]"
   ]
  },
  {
   "cell_type": "code",
   "execution_count": 14,
   "metadata": {
    "collapsed": false
   },
   "outputs": [
    {
     "name": "stderr",
     "output_type": "stream",
     "text": [
      "/home/norbert/inz_kod/chaotic_network.py:14: RuntimeWarning: overflow encountered in power\n",
      "  return 1/(1+np.e**(-y/e))\n"
     ]
    }
   ],
   "source": [
    "for i in range(it):\n",
    "    out = cn.network_step(x, eta, zeta, w, a)\n",
    "    x = out[0]\n",
    "    eta = out[1]\n",
    "    zeta = out[2]\n",
    "    mu[:,i] = cn.overlap(x,pat,N)\n",
    "    s[0,i] = np.sum(x)/N"
   ]
  },
  {
   "cell_type": "code",
   "execution_count": 15,
   "metadata": {
    "collapsed": false
   },
   "outputs": [
    {
     "data": {
      "image/png": "[encoded data removed]",
      "text/plain": [
       "<matplotlib.figure.Figure at 0x7fc032cd36d8>"
      ]
     },
     "metadata": {},
     "output_type": "display_data"
    }
   ],
   "source": [
    "fig_size = [9, 9/1.61]\n",
    "plt.rcParams[\"figure.figsize\"] = fig_size\n",
    "plt.subplot(4,1,1)\n",
    "plt.plot(range(300),mu[0,29700:],color='b')\n",
    "plt.yticks(np.arange(-1,1.1,step=0.5))\n",
    "plt.xlabel(\"t'\",size=19)\n",
    "plt.ylabel('$\\mu_1$',size=22)\n",
    "plt.ylim(ymax=1.05,ymin=-1.05)\n",
    "plt.text(310,-0.1,'a)',size=15)\n",
    "plt.grid(which='major',axis='both')\n",
    "plt.subplot(4,1,2)\n",
    "plt.plot(range(300),mu[1,29700:],color='b')\n",
    "plt.yticks(np.arange(-1,1.1,step=0.5))\n",
    "plt.xlabel(\"t'\",size=19)\n",
    "plt.ylabel('$\\mu_2$',size=22)\n",
    "plt.ylim(ymax=1.05,ymin=-1.05)\n",
    "plt.text(310,-0.1,'b)',size=15)\n",
    "plt.grid(which='major',axis='both')\n",
    "plt.subplot(4,1,3)\n",
    "plt.plot(range(300),mu[2,29700:],color='b')\n",
    "plt.yticks(np.arange(-1,1.1,step=0.5))\n",
    "plt.xlabel(\"t'\",size=19)\n",
    "plt.ylabel('$\\mu_3$',size=22)\n",
    "plt.ylim(ymax=1.05,ymin=-1.05)\n",
    "plt.text(310,-0.1,'c)',size=15)\n",
    "plt.grid(which='major',axis='both')\n",
    "plt.subplot(4,1,4)\n",
    "plt.plot(range(300),mu[3,29700:],color='b')\n",
    "plt.yticks(np.arange(-1,1.1,step=0.5))\n",
    "plt.xlabel(\"t'\",size=19)\n",
    "plt.ylabel('$\\mu_4$',size=22)\n",
    "plt.ylim(ymax=1.05,ymin=-1.05)\n",
    "plt.text(310,-0.1,'d)',size=15)\n",
    "plt.grid(which='major',axis='both')"
   ]
  },
  {
   "cell_type": "code",
   "execution_count": 16,
   "metadata": {
    "collapsed": false
   },
   "outputs": [
    {
     "data": {
      "image/png": "[encoded data removed]",
      "text/plain": [
       "<matplotlib.figure.Figure at 0x7fc032f961d0>"
      ]
     },
     "metadata": {},
     "output_type": "display_data"
    }
   ],
   "source": [
    "fig_size = [6, 6]\n",
    "plt.rcParams[\"figure.figsize\"] = fig_size\n",
    "plt.scatter(s[0,trans:-1],s[0,trans+1:],color='k')\n",
    "plt.ylim(ymax=1,ymin=0)\n",
    "plt.xlim(xmax=1,xmin=0)\n",
    "plt.xlabel('$s_n$', size=20)\n",
    "plt.ylabel('$s_{n+1}$', size=20)\n",
    "plt.grid(which='major',axis='both')"
   ]
  },
  {
   "cell_type": "code",
   "execution_count": null,
   "metadata": {
    "collapsed": true
   },
   "outputs": [],
   "source": []
  }
 ],
 "metadata": {
  "anaconda-cloud": {},
  "kernelspec": {
   "display_name": "Python [Root]",
   "language": "python",
   "name": "Python [Root]"
  },
  "language_info": {
   "codemirror_mode": {
    "name": "ipython",
    "version": 3
   },
   "file_extension": ".py",
   "mimetype": "text/x-python",
   "name": "python",
   "nbconvert_exporter": "python",
   "pygments_lexer": "ipython3",
   "version": "3.5.2"
  }
 },
 "nbformat": 4,
 "nbformat_minor": 0
}
